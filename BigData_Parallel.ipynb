{
 "cells": [
  {
   "cell_type": "code",
   "execution_count": null,
   "metadata": {},
   "outputs": [],
   "source": [
    "#Example of parallel processing using workers.py function\n",
    "from multiprocessing import Pool\n",
    "import workers \n",
    "import time\n",
    "\n",
    "if __name__ ==  '__main__': \n",
    "    starttime = time.time()\n",
    "    num_processors = 4\n",
    "    p=Pool(processes = num_processors)\n",
    "    output = p.map(workers.worker,[i for i in range(0,3)])\n",
    "    print(output)\n",
    "    print('That took {} seconds'.format(time.time() - starttime))"
   ]
  },
  {
   "cell_type": "markdown",
   "metadata": {},
   "source": [
    "## Workaround to make it work on a windows machine\n",
    "Jupyter notebook is throwing some errors for executing parallel functions with the multiprocessing package. Better execute the scripts"
   ]
  },
  {
   "cell_type": "code",
   "execution_count": null,
   "metadata": {},
   "outputs": [],
   "source": [
    "import multiprocessing\n",
    "import time\n",
    "import pandas as pd\n",
    "import numpy as np\n",
    "import itertools\n",
    "from sklearn.metrics import r2_score\n",
    "from threading import Thread\n",
    "import functools\n",
    "import xgboost as xgb\n",
    "from sklearn.model_selection import KFold\n",
    "import json\n",
    "#Import python scripts containing the functions\n",
    "import grid\n",
    "import grid_search\n",
    "import random\n",
    "import random_search\n",
    "from multiprocessing import Pool\n",
    "\n",
    "\n",
    "if __name__ ==  '__main__': \n",
    "    \n",
    "    starttime = time.time()\n",
    "    num_processors = 4\n",
    "    poll=Pool(processes = num_processors)\n",
    "    \n",
    "    results = pool.starmap(grid_search, grid())\n",
    "    print(results)\n",
    "   \n",
    "    print('That took {} seconds'.format(time.time() - starttime))\n"
   ]
  },
  {
   "cell_type": "code",
   "execution_count": null,
   "metadata": {},
   "outputs": [],
   "source": [
    "from multiprocessing import Pool\n",
    "import time\n",
    "\n",
    "def f(x):\n",
    "    return x*x\n",
    "\n",
    "if __name__ == '__main__':\n",
    "    with Pool(processes=4) as pool:         # start 4 worker processes\n",
    "        result = pool.apply_async(f, (10,)) # evaluate \"f(10)\" asynchronously in a single process\n",
    "        print(result.get(timeout=1))        # prints \"100\" unless your computer is *very* slow\n",
    "\n",
    "        print(pool.map(f, range(10)))       # prints \"[0, 1, 4,..., 81]\"\n",
    "\n",
    "        it = pool.imap(f, range(10))\n",
    "        print(next(it))                     # prints \"0\"\n",
    "        print(next(it))                     # prints \"1\"\n",
    "        print(it.next(timeout=1))           # prints \"4\" unless your computer is *very* slow\n",
    "\n",
    "        result = pool.apply_async(time.sleep, (10,))\n",
    "        print(result.get(timeout=1))        # raises multiprocessing.TimeoutError"
   ]
  },
  {
   "cell_type": "code",
   "execution_count": null,
   "metadata": {},
   "outputs": [],
   "source": []
  },
  {
   "cell_type": "code",
   "execution_count": null,
   "metadata": {},
   "outputs": [],
   "source": []
  }
 ],
 "metadata": {
  "kernelspec": {
   "display_name": "Python 3",
   "language": "python",
   "name": "python3"
  },
  "language_info": {
   "codemirror_mode": {
    "name": "ipython",
    "version": 3
   },
   "file_extension": ".py",
   "mimetype": "text/x-python",
   "name": "python",
   "nbconvert_exporter": "python",
   "pygments_lexer": "ipython3",
   "version": "3.7.4"
  }
 },
 "nbformat": 4,
 "nbformat_minor": 2
}
